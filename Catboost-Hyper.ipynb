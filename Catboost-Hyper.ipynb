{
 "cells": [
  {
   "cell_type": "code",
   "execution_count": 6,
   "id": "0b1e3fb9",
   "metadata": {},
   "outputs": [],
   "source": [
    "import pandas as pd\n",
    "import matplotlib.pyplot as plt\n",
    "import numpy as np\n",
    "from sklearn.metrics import mean_squared_error\n",
    "\n",
    "%matplotlib inline\n",
    "\n",
    "from pycaret.anomaly import *"
   ]
  },
  {
   "cell_type": "code",
   "execution_count": 7,
   "id": "778d11c9",
   "metadata": {},
   "outputs": [
    {
     "name": "stdout",
     "output_type": "stream",
     "text": [
      "   CbRt  SGZ     P     Q  CrRl  AbRl  DfClb  DfRlRt  DfDfClb     ST1     ST2  \\\n",
      "0  -437   10 -0.34  0.15  -0.4   -20      4  -0.017     -0.4 -0.0013 -0.0016   \n",
      "1  -282  -34 -0.40  0.00   0.3   -10     -5  -0.020      1.6 -0.0010 -0.0010   \n",
      "2   -90  -20 -0.21 -0.02   0.2    -8      3  -0.004     -0.2 -0.0005 -0.0006   \n",
      "3  -164    0  0.19  0.08   2.0   -11    -12  -0.009      0.5 -0.0009 -0.0008   \n",
      "4     8  -36  0.41  0.09   1.8   -19      9  -0.022     -0.1 -0.0021 -0.0022   \n",
      "\n",
      "      ST3     ST4   DfST1  DfST2   DfST3  DfST4      Sa  Target  \n",
      "0 -0.0016 -0.0016  0.0003      0  0.0000      0 -0.0016   0.022  \n",
      "1 -0.0010 -0.0010  0.0000      0  0.0000      0 -0.0010   0.016  \n",
      "2 -0.0006 -0.0006  0.0000      0  0.0000      0 -0.0006   0.019  \n",
      "3 -0.0008 -0.0008 -0.0002      0 -0.0001      0 -0.0008   0.017  \n",
      "4 -0.0022 -0.0024  0.0001      0  0.0001      0 -0.0024   0.036  \n",
      "(4000, 19)\n"
     ]
    }
   ],
   "source": [
    "df=pd.read_csv(r'C:\\Users\\marci\\DataScience\\Pitch_predictions\\pitch-aileron\\train.csv')\n",
    "print(df.head())\n",
    "print(df.shape)"
   ]
  },
  {
   "cell_type": "code",
   "execution_count": 8,
   "id": "ed51e076",
   "metadata": {},
   "outputs": [],
   "source": [
    "df_T= df.drop('Target', axis=1)"
   ]
  },
  {
   "cell_type": "code",
   "execution_count": 9,
   "id": "d0b22689",
   "metadata": {},
   "outputs": [],
   "source": [
    "from sklearn.preprocessing import StandardScaler\n",
    "ss = StandardScaler()\n",
    "df_scaled = pd.DataFrame(ss.fit_transform(df_T),columns = df_T.columns)"
   ]
  },
  {
   "cell_type": "code",
   "execution_count": 10,
   "id": "bfe8317e",
   "metadata": {},
   "outputs": [],
   "source": [
    "X = df_scaled"
   ]
  },
  {
   "cell_type": "code",
   "execution_count": 11,
   "id": "7f16ad6c",
   "metadata": {},
   "outputs": [],
   "source": [
    "df_labels = df['Target'].copy()\n",
    "\n",
    "y = df_labels"
   ]
  },
  {
   "cell_type": "code",
   "execution_count": 12,
   "id": "728e9d1b",
   "metadata": {},
   "outputs": [
    {
     "ename": "ModuleNotFoundError",
     "evalue": "No module named 'catboost'",
     "output_type": "error",
     "traceback": [
      "\u001b[1;31m---------------------------------------------------------------------------\u001b[0m",
      "\u001b[1;31mModuleNotFoundError\u001b[0m                       Traceback (most recent call last)",
      "Input \u001b[1;32mIn [12]\u001b[0m, in \u001b[0;36m<module>\u001b[1;34m\u001b[0m\n\u001b[1;32m----> 1\u001b[0m \u001b[38;5;28;01mfrom\u001b[39;00m \u001b[38;5;21;01mcatboost\u001b[39;00m \u001b[38;5;28;01mimport\u001b[39;00m CatBoostRegressor\n",
      "\u001b[1;31mModuleNotFoundError\u001b[0m: No module named 'catboost'"
     ]
    }
   ],
   "source": [
    "from catboost import CatBoostRegressor"
   ]
  },
  {
   "cell_type": "code",
   "execution_count": null,
   "id": "38380591",
   "metadata": {},
   "outputs": [],
   "source": [
    "model = CatBoostRegressor(iterations=12000, learning_rate=0.01)"
   ]
  },
  {
   "cell_type": "code",
   "execution_count": null,
   "id": "31f639e6",
   "metadata": {},
   "outputs": [],
   "source": [
    "model.fit(X, y)"
   ]
  },
  {
   "cell_type": "code",
   "execution_count": null,
   "id": "643a394e",
   "metadata": {},
   "outputs": [],
   "source": [
    "df_pred=model.predict(X)\n",
    "lin_mse = mean_squared_error(y, df_pred)\n",
    "lin_rmse = np.sqrt(lin_mse)\n",
    "lin_rmse"
   ]
  },
  {
   "cell_type": "code",
   "execution_count": null,
   "id": "f74844b7",
   "metadata": {},
   "outputs": [],
   "source": [
    "df_test=pd.read_csv(r'C:\\Users\\marci\\DataScience\\Pitch_predictions\\pitch-aileron\\test.csv')"
   ]
  },
  {
   "cell_type": "code",
   "execution_count": null,
   "id": "ff69becc",
   "metadata": {},
   "outputs": [],
   "source": [
    "df_test_no_Id = df_test.loc[:, df_test.columns!='Id'].copy()\n",
    "\n",
    "df_test_no_Id"
   ]
  },
  {
   "cell_type": "code",
   "execution_count": null,
   "id": "48438627",
   "metadata": {},
   "outputs": [],
   "source": [
    "df_test_scaled = pd.DataFrame(ss.fit_transform(df_test_no_Id),columns = df_test_no_Id.columns)"
   ]
  },
  {
   "cell_type": "code",
   "execution_count": null,
   "id": "b25d6e48",
   "metadata": {},
   "outputs": [],
   "source": [
    "y_hats = model.predict(df_test_scaled)\n",
    "\n",
    "df_test['prediction'] = y_hats\n",
    "\n",
    "df_out = pd.merge(df_test, df_test[['prediction']], how = 'left', left_index = True, right_index = True)"
   ]
  },
  {
   "cell_type": "code",
   "execution_count": null,
   "id": "2e228df2",
   "metadata": {},
   "outputs": [],
   "source": [
    "result = df_out[['Id', 'prediction_x']]"
   ]
  },
  {
   "cell_type": "code",
   "execution_count": null,
   "id": "3d2af08e",
   "metadata": {},
   "outputs": [],
   "source": [
    "results = result.rename(columns={'prediction_x':'Target'})\n",
    "\n",
    "results"
   ]
  },
  {
   "cell_type": "code",
   "execution_count": null,
   "id": "7ee660de",
   "metadata": {},
   "outputs": [],
   "source": [
    "results.to_csv('Result_cat.csv', index = False)"
   ]
  },
  {
   "cell_type": "code",
   "execution_count": null,
   "id": "eb5d346e",
   "metadata": {},
   "outputs": [],
   "source": []
  }
 ],
 "metadata": {
  "kernelspec": {
   "display_name": "Python 3 (ipykernel)",
   "language": "python",
   "name": "python3"
  },
  "language_info": {
   "codemirror_mode": {
    "name": "ipython",
    "version": 3
   },
   "file_extension": ".py",
   "mimetype": "text/x-python",
   "name": "python",
   "nbconvert_exporter": "python",
   "pygments_lexer": "ipython3",
   "version": "3.9.7"
  }
 },
 "nbformat": 4,
 "nbformat_minor": 5
}
