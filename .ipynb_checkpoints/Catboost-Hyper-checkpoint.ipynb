{
 "cells": [
  {
   "cell_type": "code",
   "execution_count": 4,
   "id": "0b1e3fb9",
   "metadata": {},
   "outputs": [],
   "source": [
    "import pandas as pd\n",
    "import matplotlib.pyplot as plt\n",
    "import numpy as np\n",
    "from sklearn.metrics import mean_squared_error\n",
    "\n",
    "%matplotlib inline\n",
    "\n",
    "from pycaret.anomaly import *"
   ]
  },
  {
   "cell_type": "code",
   "execution_count": 5,
   "id": "778d11c9",
   "metadata": {},
   "outputs": [
    {
     "ename": "SyntaxError",
     "evalue": "invalid syntax (3389901559.py, line 1)",
     "output_type": "error",
     "traceback": [
      "\u001b[1;36m  Input \u001b[1;32mIn [5]\u001b[1;36m\u001b[0m\n\u001b[1;33m    df=pd.read_csv(r'C:\\Users\\marci\\DataScience\\Pitch_predictions\\pitch-aileron\\train.csv').\u001b[0m\n\u001b[1;37m                                                                                            ^\u001b[0m\n\u001b[1;31mSyntaxError\u001b[0m\u001b[1;31m:\u001b[0m invalid syntax\n"
     ]
    }
   ],
   "source": [
    "df=pd.read_csv(r'C:\\Users\\marci\\DataScience\\Pitch_predictions\\pitch-aileron\\train.csv')\n",
    "print(df.head())\n",
    "print(df.shape)"
   ]
  },
  {
   "cell_type": "code",
   "execution_count": null,
   "id": "ed51e076",
   "metadata": {},
   "outputs": [],
   "source": [
    "df_T= df.drop('Target', axis=1)"
   ]
  },
  {
   "cell_type": "code",
   "execution_count": null,
   "id": "d0b22689",
   "metadata": {},
   "outputs": [],
   "source": [
    "from sklearn.preprocessing import StandardScaler\n",
    "ss = StandardScaler()\n",
    "df_scaled = pd.DataFrame(ss.fit_transform(df_T),columns = df_T.columns)"
   ]
  },
  {
   "cell_type": "code",
   "execution_count": null,
   "id": "bfe8317e",
   "metadata": {},
   "outputs": [],
   "source": [
    "X = df_scaled"
   ]
  },
  {
   "cell_type": "code",
   "execution_count": null,
   "id": "7f16ad6c",
   "metadata": {},
   "outputs": [],
   "source": [
    "df_labels = df['Target'].copy()\n",
    "\n",
    "y = df_labels"
   ]
  },
  {
   "cell_type": "code",
   "execution_count": null,
   "id": "728e9d1b",
   "metadata": {},
   "outputs": [],
   "source": [
    "from catboost import CatBoostRegressor"
   ]
  },
  {
   "cell_type": "code",
   "execution_count": null,
   "id": "38380591",
   "metadata": {},
   "outputs": [],
   "source": [
    "model = CatBoostRegressor(iterations=12000, learning_rate=0.01)"
   ]
  },
  {
   "cell_type": "code",
   "execution_count": null,
   "id": "31f639e6",
   "metadata": {},
   "outputs": [],
   "source": [
    "model.fit(X, y)"
   ]
  },
  {
   "cell_type": "code",
   "execution_count": null,
   "id": "643a394e",
   "metadata": {},
   "outputs": [],
   "source": [
    "df_pred=model.predict(X)\n",
    "lin_mse = mean_squared_error(y, df_pred)\n",
    "lin_rmse = np.sqrt(lin_mse)\n",
    "lin_rmse"
   ]
  },
  {
   "cell_type": "code",
   "execution_count": null,
   "id": "f74844b7",
   "metadata": {},
   "outputs": [],
   "source": [
    "df_test=pd.read_csv(r'C:\\Users\\marci\\DataScience\\Pitch_predictions\\pitch-aileron\\test.csv')"
   ]
  },
  {
   "cell_type": "code",
   "execution_count": null,
   "id": "ff69becc",
   "metadata": {},
   "outputs": [],
   "source": [
    "df_test_no_Id = df_test.loc[:, df_test.columns!='Id'].copy()\n",
    "\n",
    "df_test_no_Id"
   ]
  },
  {
   "cell_type": "code",
   "execution_count": null,
   "id": "48438627",
   "metadata": {},
   "outputs": [],
   "source": [
    "df_test_scaled = pd.DataFrame(ss.fit_transform(df_test_no_Id),columns = df_test_no_Id.columns)"
   ]
  },
  {
   "cell_type": "code",
   "execution_count": null,
   "id": "b25d6e48",
   "metadata": {},
   "outputs": [],
   "source": [
    "y_hats = model.predict(df_test_scaled)\n",
    "\n",
    "df_test['prediction'] = y_hats\n",
    "\n",
    "df_out = pd.merge(df_test, df_test[['prediction']], how = 'left', left_index = True, right_index = True)"
   ]
  },
  {
   "cell_type": "code",
   "execution_count": null,
   "id": "2e228df2",
   "metadata": {},
   "outputs": [],
   "source": [
    "result = df_out[['Id', 'prediction_x']]"
   ]
  },
  {
   "cell_type": "code",
   "execution_count": null,
   "id": "3d2af08e",
   "metadata": {},
   "outputs": [],
   "source": [
    "results = result.rename(columns={'prediction_x':'Target'})\n",
    "\n",
    "results"
   ]
  },
  {
   "cell_type": "code",
   "execution_count": null,
   "id": "7ee660de",
   "metadata": {},
   "outputs": [],
   "source": [
    "results.to_csv('Result_cat.csv', index = False)"
   ]
  },
  {
   "cell_type": "code",
   "execution_count": null,
   "id": "eb5d346e",
   "metadata": {},
   "outputs": [],
   "source": []
  }
 ],
 "metadata": {
  "kernelspec": {
   "display_name": "Python 3 (ipykernel)",
   "language": "python",
   "name": "python3"
  },
  "language_info": {
   "codemirror_mode": {
    "name": "ipython",
    "version": 3
   },
   "file_extension": ".py",
   "mimetype": "text/x-python",
   "name": "python",
   "nbconvert_exporter": "python",
   "pygments_lexer": "ipython3",
   "version": "3.8.12"
  }
 },
 "nbformat": 4,
 "nbformat_minor": 5
}
